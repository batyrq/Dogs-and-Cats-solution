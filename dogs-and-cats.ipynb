{
 "cells": [
  {
   "cell_type": "code",
   "execution_count": 1,
   "id": "37bffd05",
   "metadata": {
    "_cell_guid": "b1076dfc-b9ad-4769-8c92-a6c4dae69d19",
    "_uuid": "8f2839f25d086af736a60e9eeb907d3b93b6e0e5",
    "execution": {
     "iopub.execute_input": "2025-06-30T08:50:03.675141Z",
     "iopub.status.busy": "2025-06-30T08:50:03.674900Z",
     "iopub.status.idle": "2025-06-30T08:50:05.201916Z",
     "shell.execute_reply": "2025-06-30T08:50:05.201103Z"
    },
    "papermill": {
     "duration": 1.532809,
     "end_time": "2025-06-30T08:50:05.203283",
     "exception": false,
     "start_time": "2025-06-30T08:50:03.670474",
     "status": "completed"
    },
    "tags": []
   },
   "outputs": [
    {
     "data": {
      "text/html": [
       "<div>\n",
       "<style scoped>\n",
       "    .dataframe tbody tr th:only-of-type {\n",
       "        vertical-align: middle;\n",
       "    }\n",
       "\n",
       "    .dataframe tbody tr th {\n",
       "        vertical-align: top;\n",
       "    }\n",
       "\n",
       "    .dataframe thead th {\n",
       "        text-align: right;\n",
       "    }\n",
       "</style>\n",
       "<table border=\"1\" class=\"dataframe\">\n",
       "  <thead>\n",
       "    <tr style=\"text-align: right;\">\n",
       "      <th></th>\n",
       "      <th>id</th>\n",
       "      <th>label</th>\n",
       "    </tr>\n",
       "  </thead>\n",
       "  <tbody>\n",
       "    <tr>\n",
       "      <th>0</th>\n",
       "      <td>1</td>\n",
       "      <td>0.5</td>\n",
       "    </tr>\n",
       "    <tr>\n",
       "      <th>1</th>\n",
       "      <td>2</td>\n",
       "      <td>0.5</td>\n",
       "    </tr>\n",
       "    <tr>\n",
       "      <th>2</th>\n",
       "      <td>3</td>\n",
       "      <td>0.5</td>\n",
       "    </tr>\n",
       "    <tr>\n",
       "      <th>3</th>\n",
       "      <td>4</td>\n",
       "      <td>0.5</td>\n",
       "    </tr>\n",
       "    <tr>\n",
       "      <th>4</th>\n",
       "      <td>5</td>\n",
       "      <td>0.5</td>\n",
       "    </tr>\n",
       "    <tr>\n",
       "      <th>...</th>\n",
       "      <td>...</td>\n",
       "      <td>...</td>\n",
       "    </tr>\n",
       "    <tr>\n",
       "      <th>12495</th>\n",
       "      <td>12496</td>\n",
       "      <td>0.5</td>\n",
       "    </tr>\n",
       "    <tr>\n",
       "      <th>12496</th>\n",
       "      <td>12497</td>\n",
       "      <td>0.5</td>\n",
       "    </tr>\n",
       "    <tr>\n",
       "      <th>12497</th>\n",
       "      <td>12498</td>\n",
       "      <td>0.5</td>\n",
       "    </tr>\n",
       "    <tr>\n",
       "      <th>12498</th>\n",
       "      <td>12499</td>\n",
       "      <td>0.5</td>\n",
       "    </tr>\n",
       "    <tr>\n",
       "      <th>12499</th>\n",
       "      <td>12500</td>\n",
       "      <td>0.5</td>\n",
       "    </tr>\n",
       "  </tbody>\n",
       "</table>\n",
       "<p>12500 rows × 2 columns</p>\n",
       "</div>"
      ],
      "text/plain": [
       "          id  label\n",
       "0          1    0.5\n",
       "1          2    0.5\n",
       "2          3    0.5\n",
       "3          4    0.5\n",
       "4          5    0.5\n",
       "...      ...    ...\n",
       "12495  12496    0.5\n",
       "12496  12497    0.5\n",
       "12497  12498    0.5\n",
       "12498  12499    0.5\n",
       "12499  12500    0.5\n",
       "\n",
       "[12500 rows x 2 columns]"
      ]
     },
     "execution_count": 1,
     "metadata": {},
     "output_type": "execute_result"
    }
   ],
   "source": [
    "import pandas as pd\n",
    "sample_submission = pd.read_csv('/kaggle/input/dogs-vs-cats-redux-kernels-edition/sample_submission.csv')\n",
    "sample_submission"
   ]
  },
  {
   "cell_type": "code",
   "execution_count": 2,
   "id": "58d96619",
   "metadata": {
    "execution": {
     "iopub.execute_input": "2025-06-30T08:50:05.211105Z",
     "iopub.status.busy": "2025-06-30T08:50:05.210913Z",
     "iopub.status.idle": "2025-06-30T08:50:14.237421Z",
     "shell.execute_reply": "2025-06-30T08:50:14.236842Z"
    },
    "papermill": {
     "duration": 9.031727,
     "end_time": "2025-06-30T08:50:14.238786",
     "exception": false,
     "start_time": "2025-06-30T08:50:05.207059",
     "status": "completed"
    },
    "tags": []
   },
   "outputs": [],
   "source": [
    "import zipfile\n",
    "path_to_zip_file = '/kaggle/input/dogs-vs-cats-redux-kernels-edition/train.zip'\n",
    "with zipfile.ZipFile(path_to_zip_file,'r') as zip_ref:\n",
    "    zip_ref.extractall('/kaggle/working/')\n"
   ]
  },
  {
   "cell_type": "code",
   "execution_count": 3,
   "id": "04cd219a",
   "metadata": {
    "execution": {
     "iopub.execute_input": "2025-06-30T08:50:14.245839Z",
     "iopub.status.busy": "2025-06-30T08:50:14.245606Z",
     "iopub.status.idle": "2025-06-30T08:50:18.344664Z",
     "shell.execute_reply": "2025-06-30T08:50:18.343878Z"
    },
    "papermill": {
     "duration": 4.103977,
     "end_time": "2025-06-30T08:50:18.346089",
     "exception": false,
     "start_time": "2025-06-30T08:50:14.242112",
     "status": "completed"
    },
    "tags": []
   },
   "outputs": [],
   "source": [
    "path_to_zip_file = '/kaggle/input/dogs-vs-cats-redux-kernels-edition/test.zip'\n",
    "with zipfile.ZipFile(path_to_zip_file,'r') as zip_ref:\n",
    "    zip_ref.extractall('/kaggle/working/')"
   ]
  },
  {
   "cell_type": "code",
   "execution_count": 4,
   "id": "74387b66",
   "metadata": {
    "execution": {
     "iopub.execute_input": "2025-06-30T08:50:18.353092Z",
     "iopub.status.busy": "2025-06-30T08:50:18.352877Z",
     "iopub.status.idle": "2025-06-30T08:50:18.356169Z",
     "shell.execute_reply": "2025-06-30T08:50:18.355498Z"
    },
    "papermill": {
     "duration": 0.008075,
     "end_time": "2025-06-30T08:50:18.357323",
     "exception": false,
     "start_time": "2025-06-30T08:50:18.349248",
     "status": "completed"
    },
    "tags": []
   },
   "outputs": [],
   "source": [
    "import os \n",
    "from PIL import Image"
   ]
  },
  {
   "cell_type": "code",
   "execution_count": 5,
   "id": "bf2a2444",
   "metadata": {
    "execution": {
     "iopub.execute_input": "2025-06-30T08:50:18.364095Z",
     "iopub.status.busy": "2025-06-30T08:50:18.363896Z",
     "iopub.status.idle": "2025-06-30T08:50:27.476217Z",
     "shell.execute_reply": "2025-06-30T08:50:27.475629Z"
    },
    "papermill": {
     "duration": 9.117279,
     "end_time": "2025-06-30T08:50:27.477545",
     "exception": false,
     "start_time": "2025-06-30T08:50:18.360266",
     "status": "completed"
    },
    "tags": []
   },
   "outputs": [],
   "source": [
    "import torch\n",
    "from torch.utils.data import Dataset, DataLoader\n",
    "import torch.optim as optim\n",
    "import torch.nn as nn\n",
    "from torchvision import transforms\n",
    "import numpy as np \n",
    "import pandas as pd \n",
    "from PIL import Image\n",
    "from matplotlib import pyplot as plt"
   ]
  },
  {
   "cell_type": "code",
   "execution_count": 6,
   "id": "60514455",
   "metadata": {
    "execution": {
     "iopub.execute_input": "2025-06-30T08:50:27.484573Z",
     "iopub.status.busy": "2025-06-30T08:50:27.484251Z",
     "iopub.status.idle": "2025-06-30T08:50:27.530932Z",
     "shell.execute_reply": "2025-06-30T08:50:27.530156Z"
    },
    "papermill": {
     "duration": 0.051344,
     "end_time": "2025-06-30T08:50:27.532077",
     "exception": false,
     "start_time": "2025-06-30T08:50:27.480733",
     "status": "completed"
    },
    "tags": []
   },
   "outputs": [
    {
     "name": "stdout",
     "output_type": "stream",
     "text": [
      "(226, 240)\n"
     ]
    }
   ],
   "source": [
    "a = os.listdir('/kaggle/working/train')\n",
    "img1 = Image.open(os.path.join('/kaggle/working/train',a[0]))\n",
    "print(img1.size)"
   ]
  },
  {
   "cell_type": "code",
   "execution_count": 7,
   "id": "46d3ece8",
   "metadata": {
    "execution": {
     "iopub.execute_input": "2025-06-30T08:50:27.538885Z",
     "iopub.status.busy": "2025-06-30T08:50:27.538667Z",
     "iopub.status.idle": "2025-06-30T08:50:28.667288Z",
     "shell.execute_reply": "2025-06-30T08:50:28.666645Z"
    },
    "papermill": {
     "duration": 1.133187,
     "end_time": "2025-06-30T08:50:28.668445",
     "exception": false,
     "start_time": "2025-06-30T08:50:27.535258",
     "status": "completed"
    },
    "tags": []
   },
   "outputs": [
    {
     "data": {
      "text/html": [
       "<style>#sk-container-id-1 {color: black;background-color: white;}#sk-container-id-1 pre{padding: 0;}#sk-container-id-1 div.sk-toggleable {background-color: white;}#sk-container-id-1 label.sk-toggleable__label {cursor: pointer;display: block;width: 100%;margin-bottom: 0;padding: 0.3em;box-sizing: border-box;text-align: center;}#sk-container-id-1 label.sk-toggleable__label-arrow:before {content: \"▸\";float: left;margin-right: 0.25em;color: #696969;}#sk-container-id-1 label.sk-toggleable__label-arrow:hover:before {color: black;}#sk-container-id-1 div.sk-estimator:hover label.sk-toggleable__label-arrow:before {color: black;}#sk-container-id-1 div.sk-toggleable__content {max-height: 0;max-width: 0;overflow: hidden;text-align: left;background-color: #f0f8ff;}#sk-container-id-1 div.sk-toggleable__content pre {margin: 0.2em;color: black;border-radius: 0.25em;background-color: #f0f8ff;}#sk-container-id-1 input.sk-toggleable__control:checked~div.sk-toggleable__content {max-height: 200px;max-width: 100%;overflow: auto;}#sk-container-id-1 input.sk-toggleable__control:checked~label.sk-toggleable__label-arrow:before {content: \"▾\";}#sk-container-id-1 div.sk-estimator input.sk-toggleable__control:checked~label.sk-toggleable__label {background-color: #d4ebff;}#sk-container-id-1 div.sk-label input.sk-toggleable__control:checked~label.sk-toggleable__label {background-color: #d4ebff;}#sk-container-id-1 input.sk-hidden--visually {border: 0;clip: rect(1px 1px 1px 1px);clip: rect(1px, 1px, 1px, 1px);height: 1px;margin: -1px;overflow: hidden;padding: 0;position: absolute;width: 1px;}#sk-container-id-1 div.sk-estimator {font-family: monospace;background-color: #f0f8ff;border: 1px dotted black;border-radius: 0.25em;box-sizing: border-box;margin-bottom: 0.5em;}#sk-container-id-1 div.sk-estimator:hover {background-color: #d4ebff;}#sk-container-id-1 div.sk-parallel-item::after {content: \"\";width: 100%;border-bottom: 1px solid gray;flex-grow: 1;}#sk-container-id-1 div.sk-label:hover label.sk-toggleable__label {background-color: #d4ebff;}#sk-container-id-1 div.sk-serial::before {content: \"\";position: absolute;border-left: 1px solid gray;box-sizing: border-box;top: 0;bottom: 0;left: 50%;z-index: 0;}#sk-container-id-1 div.sk-serial {display: flex;flex-direction: column;align-items: center;background-color: white;padding-right: 0.2em;padding-left: 0.2em;position: relative;}#sk-container-id-1 div.sk-item {position: relative;z-index: 1;}#sk-container-id-1 div.sk-parallel {display: flex;align-items: stretch;justify-content: center;background-color: white;position: relative;}#sk-container-id-1 div.sk-item::before, #sk-container-id-1 div.sk-parallel-item::before {content: \"\";position: absolute;border-left: 1px solid gray;box-sizing: border-box;top: 0;bottom: 0;left: 50%;z-index: -1;}#sk-container-id-1 div.sk-parallel-item {display: flex;flex-direction: column;z-index: 1;position: relative;background-color: white;}#sk-container-id-1 div.sk-parallel-item:first-child::after {align-self: flex-end;width: 50%;}#sk-container-id-1 div.sk-parallel-item:last-child::after {align-self: flex-start;width: 50%;}#sk-container-id-1 div.sk-parallel-item:only-child::after {width: 0;}#sk-container-id-1 div.sk-dashed-wrapped {border: 1px dashed gray;margin: 0 0.4em 0.5em 0.4em;box-sizing: border-box;padding-bottom: 0.4em;background-color: white;}#sk-container-id-1 div.sk-label label {font-family: monospace;font-weight: bold;display: inline-block;line-height: 1.2em;}#sk-container-id-1 div.sk-label-container {text-align: center;}#sk-container-id-1 div.sk-container {/* jupyter's `normalize.less` sets `[hidden] { display: none; }` but bootstrap.min.css set `[hidden] { display: none !important; }` so we also need the `!important` here to be able to override the default hidden behavior on the sphinx rendered scikit-learn.org. See: https://github.com/scikit-learn/scikit-learn/issues/21755 */display: inline-block !important;position: relative;}#sk-container-id-1 div.sk-text-repr-fallback {display: none;}</style><div id=\"sk-container-id-1\" class=\"sk-top-container\"><div class=\"sk-text-repr-fallback\"><pre>LabelEncoder()</pre><b>In a Jupyter environment, please rerun this cell to show the HTML representation or trust the notebook. <br />On GitHub, the HTML representation is unable to render, please try loading this page with nbviewer.org.</b></div><div class=\"sk-container\" hidden><div class=\"sk-item\"><div class=\"sk-estimator sk-toggleable\"><input class=\"sk-toggleable__control sk-hidden--visually\" id=\"sk-estimator-id-1\" type=\"checkbox\" checked><label for=\"sk-estimator-id-1\" class=\"sk-toggleable__label sk-toggleable__label-arrow\">LabelEncoder</label><div class=\"sk-toggleable__content\"><pre>LabelEncoder()</pre></div></div></div></div></div>"
      ],
      "text/plain": [
       "LabelEncoder()"
      ]
     },
     "execution_count": 7,
     "metadata": {},
     "output_type": "execute_result"
    }
   ],
   "source": [
    "b=[]\n",
    "for line in os.listdir('/kaggle/working/train'):\n",
    "    b.append(line.split('.')[0])\n",
    "from sklearn.preprocessing import LabelEncoder\n",
    "\n",
    "le = LabelEncoder()\n",
    "le.fit(b)\n"
   ]
  },
  {
   "cell_type": "code",
   "execution_count": 8,
   "id": "14c672ae",
   "metadata": {
    "execution": {
     "iopub.execute_input": "2025-06-30T08:50:28.676007Z",
     "iopub.status.busy": "2025-06-30T08:50:28.675672Z",
     "iopub.status.idle": "2025-06-30T08:50:28.680549Z",
     "shell.execute_reply": "2025-06-30T08:50:28.680056Z"
    },
    "papermill": {
     "duration": 0.009842,
     "end_time": "2025-06-30T08:50:28.681619",
     "exception": false,
     "start_time": "2025-06-30T08:50:28.671777",
     "status": "completed"
    },
    "tags": []
   },
   "outputs": [],
   "source": [
    "class CustomDataset(Dataset):\n",
    "    def __init__(self,directorie,transform):\n",
    "        label1=[]\n",
    "        filename_image=[]\n",
    "        self.directory = directorie\n",
    "        for line in os.listdir(directorie):\n",
    "            k = line\n",
    "            k = k.split('.')\n",
    "            label1.append(k[0])\n",
    "            filename_image.append(line)\n",
    "        self.label = label1\n",
    "        self.filename = filename_image\n",
    "        self.transform = transform\n",
    "    def __len__(self):\n",
    "        return len(self.label)\n",
    "    def __getitem__(self,idx):\n",
    "        img = Image.open(os.path.join(self.directory,self.filename[idx]))\n",
    "        if self.transform:\n",
    "            img = self.transform(img)\n",
    "        val = le.transform([self.label[idx]])[0]\n",
    "        return img,val"
   ]
  },
  {
   "cell_type": "code",
   "execution_count": 9,
   "id": "8643900f",
   "metadata": {
    "execution": {
     "iopub.execute_input": "2025-06-30T08:50:28.688429Z",
     "iopub.status.busy": "2025-06-30T08:50:28.688228Z",
     "iopub.status.idle": "2025-06-30T08:50:28.709693Z",
     "shell.execute_reply": "2025-06-30T08:50:28.709191Z"
    },
    "papermill": {
     "duration": 0.026035,
     "end_time": "2025-06-30T08:50:28.710766",
     "exception": false,
     "start_time": "2025-06-30T08:50:28.684731",
     "status": "completed"
    },
    "tags": []
   },
   "outputs": [],
   "source": [
    "transform = transforms.Compose([\n",
    "    transforms.Resize((64,64)),\n",
    "    transforms.ToTensor(),\n",
    "])\n",
    "train_dataset = CustomDataset('/kaggle/working/train',transform=transform)\n",
    "train_dataloader = DataLoader(train_dataset,batch_size = 32,shuffle = True)"
   ]
  },
  {
   "cell_type": "code",
   "execution_count": 10,
   "id": "ef702897",
   "metadata": {
    "execution": {
     "iopub.execute_input": "2025-06-30T08:50:28.717672Z",
     "iopub.status.busy": "2025-06-30T08:50:28.717451Z",
     "iopub.status.idle": "2025-06-30T08:50:28.722185Z",
     "shell.execute_reply": "2025-06-30T08:50:28.721532Z"
    },
    "papermill": {
     "duration": 0.009261,
     "end_time": "2025-06-30T08:50:28.723158",
     "exception": false,
     "start_time": "2025-06-30T08:50:28.713897",
     "status": "completed"
    },
    "tags": []
   },
   "outputs": [],
   "source": [
    "class CNN(nn.Module):\n",
    "    def __init__(self):\n",
    "        super(CNN, self).__init__()\n",
    "        self.conv = nn.Sequential(\n",
    "            nn.Conv2d(3,20,3,padding = 1),\n",
    "            nn.ReLU(),\n",
    "            nn.MaxPool2d(2),\n",
    "            nn.MaxPool2d(2)\n",
    "        )\n",
    "        self.flatten = nn.Flatten()\n",
    "        self.edges1 = nn.Linear(16*16*20,64)\n",
    "        self.edges2 = nn.Linear(64,2)\n",
    "        self.activation = nn.ReLU()\n",
    "\n",
    "    def forward(self,x):\n",
    "        x = self.conv(x)\n",
    "        x = self.flatten(x)\n",
    "        x = self.edges1(x)\n",
    "        x = self.activation(x)\n",
    "        x = self.edges2(x)\n",
    "        return x"
   ]
  },
  {
   "cell_type": "code",
   "execution_count": 11,
   "id": "50d097a4",
   "metadata": {
    "execution": {
     "iopub.execute_input": "2025-06-30T08:50:28.729776Z",
     "iopub.status.busy": "2025-06-30T08:50:28.729576Z",
     "iopub.status.idle": "2025-06-30T08:50:28.732638Z",
     "shell.execute_reply": "2025-06-30T08:50:28.731991Z"
    },
    "papermill": {
     "duration": 0.007515,
     "end_time": "2025-06-30T08:50:28.733751",
     "exception": false,
     "start_time": "2025-06-30T08:50:28.726236",
     "status": "completed"
    },
    "tags": []
   },
   "outputs": [],
   "source": [
    "device = 'cuda'"
   ]
  },
  {
   "cell_type": "code",
   "execution_count": 12,
   "id": "b77ff670",
   "metadata": {
    "execution": {
     "iopub.execute_input": "2025-06-30T08:50:28.740440Z",
     "iopub.status.busy": "2025-06-30T08:50:28.740124Z",
     "iopub.status.idle": "2025-06-30T08:58:29.823536Z",
     "shell.execute_reply": "2025-06-30T08:58:29.822698Z"
    },
    "papermill": {
     "duration": 481.088424,
     "end_time": "2025-06-30T08:58:29.825155",
     "exception": false,
     "start_time": "2025-06-30T08:50:28.736731",
     "status": "completed"
    },
    "tags": []
   },
   "outputs": [
    {
     "name": "stdout",
     "output_type": "stream",
     "text": [
      "0\n",
      "1\n",
      "2\n",
      "3\n",
      "4\n",
      "5\n",
      "6\n",
      "7\n",
      "8\n",
      "9\n"
     ]
    }
   ],
   "source": [
    "model = CNN().to(device)\n",
    "\n",
    "cr = nn.CrossEntropyLoss()\n",
    "optimizer = optim.Adam(model.parameters(),lr=0.01)\n",
    "epochs = 10\n",
    "\n",
    "corrects = 0\n",
    "for i in range(epochs):\n",
    "    print(i)\n",
    "    cost = 0\n",
    "    for image,answer in train_dataloader:\n",
    "        image, answer = image.to(device), answer.to(device)\n",
    "        optimizer.zero_grad()\n",
    "        predictions = model(image)\n",
    "        error = cr(predictions,answer)\n",
    "        error.backward()\n",
    "        optimizer.step()\n",
    "        cost += error.item()\n",
    "        if i == epochs - 1:\n",
    "            for j in range(len(answer)):\n",
    "                if torch.argmax(predictions[j]).item() == answer[j].item():\n",
    "                    corrects += 1\n"
   ]
  },
  {
   "cell_type": "code",
   "execution_count": 13,
   "id": "2103146f",
   "metadata": {
    "execution": {
     "iopub.execute_input": "2025-06-30T08:58:29.833710Z",
     "iopub.status.busy": "2025-06-30T08:58:29.833454Z",
     "iopub.status.idle": "2025-06-30T08:58:29.848862Z",
     "shell.execute_reply": "2025-06-30T08:58:29.848100Z"
    },
    "papermill": {
     "duration": 0.020819,
     "end_time": "2025-06-30T08:58:29.850163",
     "exception": false,
     "start_time": "2025-06-30T08:58:29.829344",
     "status": "completed"
    },
    "tags": []
   },
   "outputs": [],
   "source": [
    "sample_submission = pd.read_csv('/kaggle/input/dogs-vs-cats-redux-kernels-edition/sample_submission.csv')"
   ]
  },
  {
   "cell_type": "code",
   "execution_count": 14,
   "id": "02293ced",
   "metadata": {
    "execution": {
     "iopub.execute_input": "2025-06-30T08:58:29.858890Z",
     "iopub.status.busy": "2025-06-30T08:58:29.858658Z",
     "iopub.status.idle": "2025-06-30T08:58:29.863893Z",
     "shell.execute_reply": "2025-06-30T08:58:29.863280Z"
    },
    "papermill": {
     "duration": 0.010998,
     "end_time": "2025-06-30T08:58:29.864993",
     "exception": false,
     "start_time": "2025-06-30T08:58:29.853995",
     "status": "completed"
    },
    "tags": []
   },
   "outputs": [],
   "source": [
    "class CustomDataset1(Dataset):\n",
    "    def __init__(self,directorie,transform):\n",
    "        filename_image=[]\n",
    "        self.directory = directorie\n",
    "        for line in os.listdir(directorie):\n",
    "            filename_image.append(line)\n",
    "        self.filename = filename_image\n",
    "        self.transform = transform\n",
    "    def __len__(self):\n",
    "        return len(self.filename)\n",
    "    def __getitem__(self,idx):\n",
    "        img = Image.open(os.path.join(self.directory,self.filename[idx]))\n",
    "        if self.transform:\n",
    "            img = self.transform(img)\n",
    "        f = self.filename[idx]\n",
    "        f = str(f)\n",
    "        f = f[0:len(f)-4]\n",
    "        return img,f"
   ]
  },
  {
   "cell_type": "code",
   "execution_count": 15,
   "id": "de3f18a2",
   "metadata": {
    "execution": {
     "iopub.execute_input": "2025-06-30T08:58:29.872692Z",
     "iopub.status.busy": "2025-06-30T08:58:29.872472Z",
     "iopub.status.idle": "2025-06-30T08:58:29.881336Z",
     "shell.execute_reply": "2025-06-30T08:58:29.880875Z"
    },
    "papermill": {
     "duration": 0.013759,
     "end_time": "2025-06-30T08:58:29.882310",
     "exception": false,
     "start_time": "2025-06-30T08:58:29.868551",
     "status": "completed"
    },
    "tags": []
   },
   "outputs": [],
   "source": [
    "test_dataset = CustomDataset1('/kaggle/working/test',transform=transform)\n",
    "test_dataloader = DataLoader(test_dataset,batch_size = 32,shuffle = False)"
   ]
  },
  {
   "cell_type": "code",
   "execution_count": 16,
   "id": "31f57af9",
   "metadata": {
    "execution": {
     "iopub.execute_input": "2025-06-30T08:58:29.889926Z",
     "iopub.status.busy": "2025-06-30T08:58:29.889735Z",
     "iopub.status.idle": "2025-06-30T08:58:56.037226Z",
     "shell.execute_reply": "2025-06-30T08:58:56.036630Z"
    },
    "papermill": {
     "duration": 26.152916,
     "end_time": "2025-06-30T08:58:56.038785",
     "exception": false,
     "start_time": "2025-06-30T08:58:29.885869",
     "status": "completed"
    },
    "tags": []
   },
   "outputs": [],
   "source": [
    "for image,filename in test_dataloader:\n",
    "    image, filename = image.to(device), filename\n",
    "    optimizer.zero_grad()\n",
    "    predictions = model(image)\n",
    "    for j in range(len(filename)):\n",
    "        sample_submission.loc[int(filename[j])-1,'label'] = torch.softmax(predictions[j], dim=0)[1].item()"
   ]
  },
  {
   "cell_type": "code",
   "execution_count": 17,
   "id": "14580a58",
   "metadata": {
    "execution": {
     "iopub.execute_input": "2025-06-30T08:58:56.047506Z",
     "iopub.status.busy": "2025-06-30T08:58:56.047047Z",
     "iopub.status.idle": "2025-06-30T08:58:56.079608Z",
     "shell.execute_reply": "2025-06-30T08:58:56.079121Z"
    },
    "papermill": {
     "duration": 0.037898,
     "end_time": "2025-06-30T08:58:56.080665",
     "exception": false,
     "start_time": "2025-06-30T08:58:56.042767",
     "status": "completed"
    },
    "tags": []
   },
   "outputs": [],
   "source": [
    "sample_submission.to_csv('submission.csv',index=False)"
   ]
  },
  {
   "cell_type": "code",
   "execution_count": 18,
   "id": "e50f0aae",
   "metadata": {
    "execution": {
     "iopub.execute_input": "2025-06-30T08:58:56.088484Z",
     "iopub.status.busy": "2025-06-30T08:58:56.088280Z",
     "iopub.status.idle": "2025-06-30T08:58:56.096284Z",
     "shell.execute_reply": "2025-06-30T08:58:56.095548Z"
    },
    "papermill": {
     "duration": 0.013088,
     "end_time": "2025-06-30T08:58:56.097300",
     "exception": false,
     "start_time": "2025-06-30T08:58:56.084212",
     "status": "completed"
    },
    "tags": []
   },
   "outputs": [
    {
     "data": {
      "text/html": [
       "<div>\n",
       "<style scoped>\n",
       "    .dataframe tbody tr th:only-of-type {\n",
       "        vertical-align: middle;\n",
       "    }\n",
       "\n",
       "    .dataframe tbody tr th {\n",
       "        vertical-align: top;\n",
       "    }\n",
       "\n",
       "    .dataframe thead th {\n",
       "        text-align: right;\n",
       "    }\n",
       "</style>\n",
       "<table border=\"1\" class=\"dataframe\">\n",
       "  <thead>\n",
       "    <tr style=\"text-align: right;\">\n",
       "      <th></th>\n",
       "      <th>id</th>\n",
       "      <th>label</th>\n",
       "    </tr>\n",
       "  </thead>\n",
       "  <tbody>\n",
       "    <tr>\n",
       "      <th>0</th>\n",
       "      <td>1</td>\n",
       "      <td>0.533714</td>\n",
       "    </tr>\n",
       "    <tr>\n",
       "      <th>1</th>\n",
       "      <td>2</td>\n",
       "      <td>0.670813</td>\n",
       "    </tr>\n",
       "    <tr>\n",
       "      <th>2</th>\n",
       "      <td>3</td>\n",
       "      <td>0.669964</td>\n",
       "    </tr>\n",
       "    <tr>\n",
       "      <th>3</th>\n",
       "      <td>4</td>\n",
       "      <td>0.881864</td>\n",
       "    </tr>\n",
       "    <tr>\n",
       "      <th>4</th>\n",
       "      <td>5</td>\n",
       "      <td>0.051437</td>\n",
       "    </tr>\n",
       "    <tr>\n",
       "      <th>...</th>\n",
       "      <td>...</td>\n",
       "      <td>...</td>\n",
       "    </tr>\n",
       "    <tr>\n",
       "      <th>12495</th>\n",
       "      <td>12496</td>\n",
       "      <td>0.009046</td>\n",
       "    </tr>\n",
       "    <tr>\n",
       "      <th>12496</th>\n",
       "      <td>12497</td>\n",
       "      <td>0.015429</td>\n",
       "    </tr>\n",
       "    <tr>\n",
       "      <th>12497</th>\n",
       "      <td>12498</td>\n",
       "      <td>0.658111</td>\n",
       "    </tr>\n",
       "    <tr>\n",
       "      <th>12498</th>\n",
       "      <td>12499</td>\n",
       "      <td>0.749565</td>\n",
       "    </tr>\n",
       "    <tr>\n",
       "      <th>12499</th>\n",
       "      <td>12500</td>\n",
       "      <td>0.034852</td>\n",
       "    </tr>\n",
       "  </tbody>\n",
       "</table>\n",
       "<p>12500 rows × 2 columns</p>\n",
       "</div>"
      ],
      "text/plain": [
       "          id     label\n",
       "0          1  0.533714\n",
       "1          2  0.670813\n",
       "2          3  0.669964\n",
       "3          4  0.881864\n",
       "4          5  0.051437\n",
       "...      ...       ...\n",
       "12495  12496  0.009046\n",
       "12496  12497  0.015429\n",
       "12497  12498  0.658111\n",
       "12498  12499  0.749565\n",
       "12499  12500  0.034852\n",
       "\n",
       "[12500 rows x 2 columns]"
      ]
     },
     "execution_count": 18,
     "metadata": {},
     "output_type": "execute_result"
    }
   ],
   "source": [
    "sample_submission"
   ]
  }
 ],
 "metadata": {
  "kaggle": {
   "accelerator": "gpu",
   "dataSources": [
    {
     "databundleVersionId": 38425,
     "sourceId": 5441,
     "sourceType": "competition"
    }
   ],
   "dockerImageVersionId": 31040,
   "isGpuEnabled": true,
   "isInternetEnabled": true,
   "language": "python",
   "sourceType": "notebook"
  },
  "kernelspec": {
   "display_name": "Python 3",
   "language": "python",
   "name": "python3"
  },
  "language_info": {
   "codemirror_mode": {
    "name": "ipython",
    "version": 3
   },
   "file_extension": ".py",
   "mimetype": "text/x-python",
   "name": "python",
   "nbconvert_exporter": "python",
   "pygments_lexer": "ipython3",
   "version": "3.11.11"
  },
  "papermill": {
   "default_parameters": {},
   "duration": 539.391615,
   "end_time": "2025-06-30T08:58:58.966018",
   "environment_variables": {},
   "exception": null,
   "input_path": "__notebook__.ipynb",
   "output_path": "__notebook__.ipynb",
   "parameters": {},
   "start_time": "2025-06-30T08:49:59.574403",
   "version": "2.6.0"
  }
 },
 "nbformat": 4,
 "nbformat_minor": 5
}
